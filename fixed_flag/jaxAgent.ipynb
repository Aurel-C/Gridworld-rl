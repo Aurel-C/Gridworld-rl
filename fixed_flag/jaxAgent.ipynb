{
 "cells": [
  {
   "cell_type": "code",
   "execution_count": 1,
   "source": [
    "import jax.numpy as jnp\n",
    "import jax"
   ],
   "outputs": [],
   "metadata": {}
  },
  {
   "cell_type": "code",
   "execution_count": 2,
   "source": [
    "def move(s,n):\n",
    "    branches = jnp.array([[1,0],[-1,0],[0,1],[0,-1],[0,0]])\n",
    "    s2 = s + branches[n]\n",
    "    s2 = jnp.clip(s2,0,9)\n",
    "    return s2\n",
    "\n",
    "def policy(q,s,epsilon):\n",
    "    policy = jnp.ones((5))*epsilon/5\n",
    "    best = q[s[0],s[1]] == jnp.max(q[s[0],s[1]])\n",
    "    policy += best*(1-epsilon)/best.sum()\n",
    "    return policy\n",
    "\n",
    "def max_action(q,s,epsilon,key):\n",
    "    key, subkey = jax.random.split(key)\n",
    "    a = jax.random.choice(subkey,jnp.arange(5),p=policy(q,s,epsilon))\n",
    "    return move(s,a), a, key\n",
    "\n",
    "def update_Q(q, trace, s0, a0, q1, qo, reward, params):\n",
    "    trace = trace*params[\"lambda\"]*params[\"gamma\"]\n",
    "    trace = trace.at[s0[0],s0[1],a0].set(1.0 - params[\"alpha\"]*params[\"lambda\"]*params[\"gamma\"]*trace[s0[0],s0[1],a0])\n",
    "    q += params[\"alpha\"]*trace*(params[\"gamma\"]*q1 + reward - qo)\n",
    "    q = q.at[s0[0],s0[1],a0].add(-params[\"alpha\"]*(q[s0[0],s0[1],a0]-qo))\n",
    "    return q, trace\n",
    "\n",
    "def step(args):\n",
    "    q,trace,s,qo,key,i,params = args\n",
    "    s2, a, key = max_action(q,s,params[\"epsilon\"],key)\n",
    "    expected = jnp.dot(q[s2[0],s2[1]],policy(q,s2,params[\"epsilon\"]))\n",
    "    reward = jax.lax.cond(jnp.all(s2 == jnp.array([9,9])),lambda _:1.0,lambda _:-0.01, None)\n",
    "    q, trace = update_Q(q,trace,s,a,expected,qo, reward, params)\n",
    "    s = s2\n",
    "    qo = expected\n",
    "    i += 1\n",
    "    return q,trace,s,qo,key,i,params\n",
    "\n",
    "def episode(episode_n, args):\n",
    "    q, mean, key, params = args\n",
    "    #params[\"epsilon\"] = 1/episode_n\n",
    "    trace = jnp.zeros_like(q)\n",
    "    s = jnp.array([0,0])\n",
    "    qo = 0\n",
    "    i = 0\n",
    "\n",
    "    def cond(a):\n",
    "        q,trace,s,qo,key,i,params = a\n",
    "        return jnp.any(s != jnp.array([9,9]))\n",
    "\n",
    "    q,trace,s,qo,key,i,params = jax.lax.while_loop(cond,step,(q,trace,s,qo,key,i,params))\n",
    "    mean += i\n",
    "    return q, mean, key, params\n",
    "\n",
    "@jax.jit\n",
    "def train(seed):\n",
    "    steps = 50\n",
    "    params = {\n",
    "        \"alpha\": 0.1,\n",
    "        \"lambda\": 0.95,\n",
    "        \"gamma\": 1.0,\n",
    "        \"epsilon\" : 0.1\n",
    "    }\n",
    "    q = jnp.zeros([10,10,5])\n",
    "    mean = 0\n",
    "    key = jax.random.PRNGKey(seed)\n",
    "    q, mean, key, params = jax.lax.fori_loop(1, steps+1, episode, (q, mean, key, params))\n",
    "    return mean/steps\n",
    "\n",
    "@jax.jit\n",
    "def multi_train(seeds):\n",
    "    return jnp.mean(jax.vmap(train)(seeds))\n",
    "\n",
    "@jax.jit\n",
    "def parameter_search(seeds,args):\n",
    "    return jax.vmap(multi_train)(seeds,args)"
   ],
   "outputs": [],
   "metadata": {}
  },
  {
   "cell_type": "code",
   "execution_count": 3,
   "source": [
    "mean = train(12)\n",
    "print(mean)"
   ],
   "outputs": [
    {
     "output_type": "stream",
     "name": "stdout",
     "text": [
      "58.899998\n"
     ]
    }
   ],
   "metadata": {}
  },
  {
   "cell_type": "code",
   "execution_count": null,
   "source": [
    "n_runs = 100\n",
    "seeds = jnp.arange(n_runs)\n",
    "param = jnp.array([[0.05],[0.1],[0.3]])\n",
    "seeds = jnp.tile(seeds, (len(param),1))\n",
    "param = jnp.repeat(param, n_runs, axis=1)\n",
    "res = parameter_search(seeds,None)\n",
    "print(res)"
   ],
   "outputs": [],
   "metadata": {}
  },
  {
   "cell_type": "code",
   "execution_count": 73,
   "source": [
    "n_runs = 100\n",
    "seeds = jnp.arange(n_runs)\n",
    "res = multi_train(seeds)\n",
    "res"
   ],
   "outputs": [],
   "metadata": {}
  }
 ],
 "metadata": {
  "interpreter": {
   "hash": "1a83e18498d3637e3833f4bba85c0c33590894f323486887eb3c7a92fdea3b24"
  },
  "kernelspec": {
   "name": "python3",
   "display_name": "Python 3.8.3 64-bit ('base': conda)"
  },
  "language_info": {
   "codemirror_mode": {
    "name": "ipython",
    "version": 3
   },
   "file_extension": ".py",
   "mimetype": "text/x-python",
   "name": "python",
   "nbconvert_exporter": "python",
   "pygments_lexer": "ipython3",
   "version": "3.8.3"
  }
 },
 "nbformat": 4,
 "nbformat_minor": 4
}